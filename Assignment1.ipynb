{
 "cells": [
  {
   "cell_type": "markdown",
   "metadata": {},
   "source": [
    "## Part 1\n",
    "Write a function named 'pollutantmean' that calculates the mean of a pollutant (sulfate or nitrate) across a specified list of monitors. The function 'pollutantmean' takes three arguments: 'directory', 'pollutant', and 'id'. Given a vector monitor ID numbers, 'pollutantmean' reads that monitors' particulate matter data from the directory specified in the 'directory' argument and returns the mean of the pollutant across all of the monitors, ignoring any missing values coded as NA."
   ]
  },
  {
   "cell_type": "code",
   "execution_count": 1,
   "metadata": {
    "collapsed": false
   },
   "outputs": [
    {
     "data": {
      "text/html": [
       "4.06412824256036"
      ],
      "text/latex": [
       "4.06412824256036"
      ],
      "text/markdown": [
       "4.06412824256036"
      ],
      "text/plain": [
       "[1] 4.064128"
      ]
     },
     "metadata": {},
     "output_type": "display_data"
    }
   ],
   "source": [
    "source(\"pollutantmean.R\")\n",
    "pollutantmean(\"specdata\", \"sulfate\", 1:10)"
   ]
  },
  {
   "cell_type": "code",
   "execution_count": 2,
   "metadata": {
    "collapsed": false
   },
   "outputs": [
    {
     "data": {
      "text/html": [
       "1.70604735169492"
      ],
      "text/latex": [
       "1.70604735169492"
      ],
      "text/markdown": [
       "1.70604735169492"
      ],
      "text/plain": [
       "[1] 1.706047"
      ]
     },
     "metadata": {},
     "output_type": "display_data"
    }
   ],
   "source": [
    "pollutantmean(\"specdata\", \"nitrate\", 70:72)"
   ]
  },
  {
   "cell_type": "code",
   "execution_count": 3,
   "metadata": {
    "collapsed": false
   },
   "outputs": [
    {
     "data": {
      "text/html": [
       "1.28083333333333"
      ],
      "text/latex": [
       "1.28083333333333"
      ],
      "text/markdown": [
       "1.28083333333333"
      ],
      "text/plain": [
       "[1] 1.280833"
      ]
     },
     "metadata": {},
     "output_type": "display_data"
    }
   ],
   "source": [
    "pollutantmean(\"specdata\", \"nitrate\", 23)"
   ]
  },
  {
   "cell_type": "markdown",
   "metadata": {},
   "source": [
    "## Part 2\n",
    "Write a function that reads a directory full of files and reports the number of completely observed cases in each data file. The function should return a data frame where the first column is the name of the file and the second column is the number of complete cases. "
   ]
  },
  {
   "cell_type": "code",
   "execution_count": 4,
   "metadata": {
    "collapsed": false
   },
   "outputs": [
    {
     "data": {
      "text/html": [
       "<table>\n",
       "<thead><tr><th scope=col>id</th><th scope=col>nobs</th></tr></thead>\n",
       "<tbody>\n",
       "\t<tr><td>1  </td><td>117</td></tr>\n",
       "</tbody>\n",
       "</table>\n"
      ],
      "text/latex": [
       "\\begin{tabular}{r|ll}\n",
       " id & nobs\\\\\n",
       "\\hline\n",
       "\t 1   & 117\\\\\n",
       "\\end{tabular}\n"
      ],
      "text/markdown": [
       "\n",
       "id | nobs | \n",
       "|---|\n",
       "| 1   | 117 | \n",
       "\n",
       "\n"
      ],
      "text/plain": [
       "  id nobs\n",
       "1 1  117 "
      ]
     },
     "metadata": {},
     "output_type": "display_data"
    }
   ],
   "source": [
    "source(\"complete.R\")\n",
    "complete(\"specdata\", 1)"
   ]
  },
  {
   "cell_type": "code",
   "execution_count": 5,
   "metadata": {
    "collapsed": false
   },
   "outputs": [
    {
     "data": {
      "text/html": [
       "<table>\n",
       "<thead><tr><th scope=col>id</th><th scope=col>nobs</th></tr></thead>\n",
       "<tbody>\n",
       "\t<tr><td> 2  </td><td>1041</td></tr>\n",
       "\t<tr><td> 4  </td><td> 474</td></tr>\n",
       "\t<tr><td> 8  </td><td> 192</td></tr>\n",
       "\t<tr><td>10  </td><td> 148</td></tr>\n",
       "\t<tr><td>12  </td><td>  96</td></tr>\n",
       "</tbody>\n",
       "</table>\n"
      ],
      "text/latex": [
       "\\begin{tabular}{r|ll}\n",
       " id & nobs\\\\\n",
       "\\hline\n",
       "\t  2   & 1041\\\\\n",
       "\t  4   &  474\\\\\n",
       "\t  8   &  192\\\\\n",
       "\t 10   &  148\\\\\n",
       "\t 12   &   96\\\\\n",
       "\\end{tabular}\n"
      ],
      "text/markdown": [
       "\n",
       "id | nobs | \n",
       "|---|---|---|---|---|\n",
       "|  2   | 1041 | \n",
       "|  4   |  474 | \n",
       "|  8   |  192 | \n",
       "| 10   |  148 | \n",
       "| 12   |   96 | \n",
       "\n",
       "\n"
      ],
      "text/plain": [
       "  id nobs\n",
       "1  2 1041\n",
       "2  4  474\n",
       "3  8  192\n",
       "4 10  148\n",
       "5 12   96"
      ]
     },
     "metadata": {},
     "output_type": "display_data"
    }
   ],
   "source": [
    "complete(\"specdata\", c(2, 4, 8, 10, 12))"
   ]
  },
  {
   "cell_type": "code",
   "execution_count": 6,
   "metadata": {
    "collapsed": false
   },
   "outputs": [
    {
     "data": {
      "text/html": [
       "<table>\n",
       "<thead><tr><th scope=col>id</th><th scope=col>nobs</th></tr></thead>\n",
       "<tbody>\n",
       "\t<tr><td>30 </td><td>932</td></tr>\n",
       "\t<tr><td>29 </td><td>711</td></tr>\n",
       "\t<tr><td>28 </td><td>475</td></tr>\n",
       "\t<tr><td>27 </td><td>338</td></tr>\n",
       "\t<tr><td>26 </td><td>586</td></tr>\n",
       "\t<tr><td>25 </td><td>463</td></tr>\n",
       "</tbody>\n",
       "</table>\n"
      ],
      "text/latex": [
       "\\begin{tabular}{r|ll}\n",
       " id & nobs\\\\\n",
       "\\hline\n",
       "\t 30  & 932\\\\\n",
       "\t 29  & 711\\\\\n",
       "\t 28  & 475\\\\\n",
       "\t 27  & 338\\\\\n",
       "\t 26  & 586\\\\\n",
       "\t 25  & 463\\\\\n",
       "\\end{tabular}\n"
      ],
      "text/markdown": [
       "\n",
       "id | nobs | \n",
       "|---|---|---|---|---|---|\n",
       "| 30  | 932 | \n",
       "| 29  | 711 | \n",
       "| 28  | 475 | \n",
       "| 27  | 338 | \n",
       "| 26  | 586 | \n",
       "| 25  | 463 | \n",
       "\n",
       "\n"
      ],
      "text/plain": [
       "  id nobs\n",
       "1 30 932 \n",
       "2 29 711 \n",
       "3 28 475 \n",
       "4 27 338 \n",
       "5 26 586 \n",
       "6 25 463 "
      ]
     },
     "metadata": {},
     "output_type": "display_data"
    }
   ],
   "source": [
    "complete(\"specdata\", 30:25)"
   ]
  },
  {
   "cell_type": "code",
   "execution_count": 7,
   "metadata": {
    "collapsed": false
   },
   "outputs": [
    {
     "data": {
      "text/html": [
       "<table>\n",
       "<thead><tr><th scope=col>id</th><th scope=col>nobs</th></tr></thead>\n",
       "<tbody>\n",
       "\t<tr><td>3  </td><td>243</td></tr>\n",
       "</tbody>\n",
       "</table>\n"
      ],
      "text/latex": [
       "\\begin{tabular}{r|ll}\n",
       " id & nobs\\\\\n",
       "\\hline\n",
       "\t 3   & 243\\\\\n",
       "\\end{tabular}\n"
      ],
      "text/markdown": [
       "\n",
       "id | nobs | \n",
       "|---|\n",
       "| 3   | 243 | \n",
       "\n",
       "\n"
      ],
      "text/plain": [
       "  id nobs\n",
       "1 3  243 "
      ]
     },
     "metadata": {},
     "output_type": "display_data"
    }
   ],
   "source": [
    "complete(\"specdata\", 3)"
   ]
  },
  {
   "cell_type": "markdown",
   "metadata": {},
   "source": [
    "## Part 3\n",
    "Write a function that takes a directory of data files and a threshold for complete cases and calculates the correlation between sulfate and nitrate for monitor locations where the number of completely observed cases (on all variables) is greater than the threshold. The function should return a vector of correlations for the monitors that meet the threshold requirement. If no monitors meet the threshold requirement, then the function should return a numeric vector of length 0."
   ]
  },
  {
   "cell_type": "code",
   "execution_count": 8,
   "metadata": {
    "collapsed": false
   },
   "outputs": [
    {
     "data": {
      "text/html": [
       "<ol class=list-inline>\n",
       "\t<li>-0.0189575409702549</li>\n",
       "\t<li>-0.140512544015892</li>\n",
       "\t<li>-0.0438973721387846</li>\n",
       "\t<li>-0.0681595622977733</li>\n",
       "\t<li>-0.123506665841487</li>\n",
       "\t<li>-0.0758881442189889</li>\n",
       "</ol>\n"
      ],
      "text/latex": [
       "\\begin{enumerate*}\n",
       "\\item -0.0189575409702549\n",
       "\\item -0.140512544015892\n",
       "\\item -0.0438973721387846\n",
       "\\item -0.0681595622977733\n",
       "\\item -0.123506665841487\n",
       "\\item -0.0758881442189889\n",
       "\\end{enumerate*}\n"
      ],
      "text/markdown": [
       "1. -0.0189575409702549\n",
       "2. -0.140512544015892\n",
       "3. -0.0438973721387846\n",
       "4. -0.0681595622977733\n",
       "5. -0.123506665841487\n",
       "6. -0.0758881442189889\n",
       "\n",
       "\n"
      ],
      "text/plain": [
       "[1] -0.01895754 -0.14051254 -0.04389737 -0.06815956 -0.12350667 -0.07588814"
      ]
     },
     "metadata": {},
     "output_type": "display_data"
    }
   ],
   "source": [
    "source(\"corr.R\")\n",
    "source(\"complete.R\")\n",
    "cr <- corr(\"specdata\", 150)\n",
    "head(cr)"
   ]
  },
  {
   "cell_type": "code",
   "execution_count": 9,
   "metadata": {
    "collapsed": false
   },
   "outputs": [
    {
     "data": {
      "text/plain": [
       "    Min.  1st Qu.   Median     Mean  3rd Qu.     Max. \n",
       "-0.21060 -0.04999  0.09463  0.12530  0.26840  0.76310 "
      ]
     },
     "metadata": {},
     "output_type": "display_data"
    }
   ],
   "source": [
    "summary(cr)"
   ]
  },
  {
   "cell_type": "code",
   "execution_count": 10,
   "metadata": {
    "collapsed": false
   },
   "outputs": [
    {
     "data": {
      "text/html": [
       "<ol class=list-inline>\n",
       "\t<li>-0.0189575409702549</li>\n",
       "\t<li>-0.0438973721387846</li>\n",
       "\t<li>-0.0681595622977733</li>\n",
       "\t<li>-0.0758881442189889</li>\n",
       "\t<li>0.763128837036294</li>\n",
       "\t<li>-0.157828603403922</li>\n",
       "</ol>\n"
      ],
      "text/latex": [
       "\\begin{enumerate*}\n",
       "\\item -0.0189575409702549\n",
       "\\item -0.0438973721387846\n",
       "\\item -0.0681595622977733\n",
       "\\item -0.0758881442189889\n",
       "\\item 0.763128837036294\n",
       "\\item -0.157828603403922\n",
       "\\end{enumerate*}\n"
      ],
      "text/markdown": [
       "1. -0.0189575409702549\n",
       "2. -0.0438973721387846\n",
       "3. -0.0681595622977733\n",
       "4. -0.0758881442189889\n",
       "5. 0.763128837036294\n",
       "6. -0.157828603403922\n",
       "\n",
       "\n"
      ],
      "text/plain": [
       "[1] -0.01895754 -0.04389737 -0.06815956 -0.07588814  0.76312884 -0.15782860"
      ]
     },
     "metadata": {},
     "output_type": "display_data"
    }
   ],
   "source": [
    "cr <- corr(\"specdata\", 400)\n",
    "head(cr)"
   ]
  },
  {
   "cell_type": "code",
   "execution_count": 11,
   "metadata": {
    "collapsed": false
   },
   "outputs": [
    {
     "data": {
      "text/plain": [
       "    Min.  1st Qu.   Median     Mean  3rd Qu.     Max. \n",
       "-0.17620 -0.03109  0.10020  0.13970  0.26850  0.76310 "
      ]
     },
     "metadata": {},
     "output_type": "display_data"
    }
   ],
   "source": [
    "summary(cr)"
   ]
  },
  {
   "cell_type": "code",
   "execution_count": 12,
   "metadata": {
    "collapsed": false
   },
   "outputs": [
    {
     "data": {
      "text/plain": [
       "   Min. 1st Qu.  Median    Mean 3rd Qu.    Max. \n",
       "                                                "
      ]
     },
     "metadata": {},
     "output_type": "display_data"
    }
   ],
   "source": [
    "cr <- corr(\"specdata\", 5000)\n",
    "summary(cr)"
   ]
  },
  {
   "cell_type": "code",
   "execution_count": 13,
   "metadata": {
    "collapsed": false
   },
   "outputs": [
    {
     "data": {
      "text/html": [
       "0"
      ],
      "text/latex": [
       "0"
      ],
      "text/markdown": [
       "0"
      ],
      "text/plain": [
       "[1] 0"
      ]
     },
     "metadata": {},
     "output_type": "display_data"
    }
   ],
   "source": [
    "length(cr)"
   ]
  },
  {
   "cell_type": "code",
   "execution_count": 14,
   "metadata": {
    "collapsed": false
   },
   "outputs": [
    {
     "data": {
      "text/plain": [
       "    Min.  1st Qu.   Median     Mean  3rd Qu.     Max. \n",
       "-1.00000 -0.05282  0.10720  0.13680  0.27830  1.00000 "
      ]
     },
     "metadata": {},
     "output_type": "display_data"
    }
   ],
   "source": [
    "cr <- corr(\"specdata\")\n",
    "summary(cr)"
   ]
  },
  {
   "cell_type": "code",
   "execution_count": 15,
   "metadata": {
    "collapsed": false
   },
   "outputs": [
    {
     "data": {
      "text/html": [
       "323"
      ],
      "text/latex": [
       "323"
      ],
      "text/markdown": [
       "323"
      ],
      "text/plain": [
       "[1] 323"
      ]
     },
     "metadata": {},
     "output_type": "display_data"
    }
   ],
   "source": [
    "length(cr)"
   ]
  },
  {
   "cell_type": "code",
   "execution_count": null,
   "metadata": {
    "collapsed": true
   },
   "outputs": [],
   "source": []
  }
 ],
 "metadata": {
  "kernelspec": {
   "display_name": "R",
   "language": "R",
   "name": "ir"
  },
  "language_info": {
   "codemirror_mode": "r",
   "file_extension": ".r",
   "mimetype": "text/x-r-source",
   "name": "R",
   "pygments_lexer": "r",
   "version": "3.3.2"
  }
 },
 "nbformat": 4,
 "nbformat_minor": 2
}
